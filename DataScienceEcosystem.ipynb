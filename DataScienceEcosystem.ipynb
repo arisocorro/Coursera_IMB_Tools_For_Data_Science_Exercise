{
  "nbformat": 4,
  "nbformat_minor": 0,
  "metadata": {
    "colab": {
      "provenance": []
    },
    "kernelspec": {
      "name": "python3",
      "display_name": "Python 3"
    },
    "language_info": {
      "name": "python"
    }
  },
  "cells": [
    {
      "cell_type": "markdown",
      "source": [
        "# Data Science Tools and Ecosystem"
      ],
      "metadata": {
        "id": "YvwQlYqvhXQy"
      }
    },
    {
      "cell_type": "markdown",
      "source": [
        "In this notebook, Data Science Tools and Ecosystem are summarized"
      ],
      "metadata": {
        "id": "VGlVTxReiG-m"
      }
    },
    {
      "cell_type": "markdown",
      "source": [
        "**Objectives**\n",
        "\n",
        "* List Popular Data Science Languages\n",
        "* List Popular Data Science Libraries\n",
        "* List Popular Data Science Tools\n",
        "* Evaluating arithmatic in Python\n",
        "\n",
        "\n",
        "\n"
      ],
      "metadata": {
        "id": "Dr6nwTKwmMlN"
      }
    },
    {
      "cell_type": "markdown",
      "source": [
        "Some of the popular languages fpr Data Scoentists are:\n",
        "1. Python\n",
        "2. Julia\n",
        "3. SQL"
      ],
      "metadata": {
        "id": "S1IAfqcMiUMu"
      }
    },
    {
      "cell_type": "markdown",
      "source": [
        "Some of the commonly used libraries used by Data Scientists include:\n",
        "1. Pandas\n",
        "2. Matplotlib\n",
        "3. Seaborn"
      ],
      "metadata": {
        "id": "qm1aUDejin4I"
      }
    },
    {
      "cell_type": "markdown",
      "source": [
        "|Data Science Tools|\n",
        "|-|\n",
        "|Google Colab|\n",
        "|Jupyter Notebook|\n",
        "|Rstudio|"
      ],
      "metadata": {
        "id": "Cl7RQd8Mj0K6"
      }
    },
    {
      "cell_type": "markdown",
      "source": [
        "### Below are a few examples of evaluating arithmetic expressions in Python"
      ],
      "metadata": {
        "id": "Ccmcdf4WkjwP"
      }
    },
    {
      "cell_type": "code",
      "source": [
        "# This a simple arithmetic expression to mutiply then add integers\n",
        "(3*4)+5"
      ],
      "metadata": {
        "colab": {
          "base_uri": "https://localhost:8080/"
        },
        "id": "2FcDy2RzlWGi",
        "outputId": "a7746d46-cef0-4981-89e6-e49d380b5b9e"
      },
      "execution_count": 2,
      "outputs": [
        {
          "output_type": "execute_result",
          "data": {
            "text/plain": [
              "17"
            ]
          },
          "metadata": {},
          "execution_count": 2
        }
      ]
    },
    {
      "cell_type": "code",
      "source": [
        "# This will convert 200 minutes to hours by diving by 60\n",
        "200/60"
      ],
      "metadata": {
        "colab": {
          "base_uri": "https://localhost:8080/"
        },
        "id": "pa_9e01XleJr",
        "outputId": "bb00738b-5a40-4561-9212-55bde9c26caf"
      },
      "execution_count": 3,
      "outputs": [
        {
          "output_type": "execute_result",
          "data": {
            "text/plain": [
              "3.3333333333333335"
            ]
          },
          "metadata": {},
          "execution_count": 3
        }
      ]
    },
    {
      "cell_type": "markdown",
      "source": [
        "## Author\n",
        "Ari Socorro"
      ],
      "metadata": {
        "id": "eHzVBfLClzuX"
      }
    }
  ]
}